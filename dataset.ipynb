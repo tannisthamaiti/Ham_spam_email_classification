{
 "cells": [
  {
   "cell_type": "markdown",
   "metadata": {},
   "source": [
    "email_path.txt consists of path to emails. **Spam emails** 52790 and **ham emails** 39398"
   ]
  },
  {
   "cell_type": "code",
   "execution_count": 1,
   "metadata": {},
   "outputs": [],
   "source": [
    "import pandas as pd\n",
    "import os\n",
    "import mailparser\n",
    "from nlpia.loaders import get_data\n",
    "from nltk.tokenize import casual_tokenize\n",
    "from matplotlib import pyplot as plt\n",
    "import seaborn\n",
    "import pandas as pd\n",
    "import numpy as np\n",
    "import spacy\n",
    "nlp = spacy.load('en_core_web_sm')\n",
    "import collections\n",
    "#pd.set_option('display.width', 1000)\n",
    "#pd.set_option('display.height', 1000)\n",
    "#pd.set_option('max_colwidth', 1000)"
   ]
  },
  {
   "cell_type": "code",
   "execution_count": 2,
   "metadata": {},
   "outputs": [],
   "source": [
    "def getting_emails():\n",
    "    email_list = []\n",
    "    f1 = open('email_path.txt', 'r')\n",
    "    count = 0\n",
    "    for line in f1:\n",
    "        count += 1\n",
    "        l1= line.split(',')\n",
    "        path_mail = l1[0]\n",
    "        isspam = l1[1]\n",
    "        if (count<=2600):\n",
    "            mail = mailparser.parse_from_file(path_mail)\n",
    "            email_list.append({'path': path_mail, 'Date':mail.date, 'Body': mail.body, \\\n",
    "                          'From':mail.from_, 'message_id': mail.message_id, 'subject': mail.subject,\\\n",
    "                          'To': mail.to, 'isspam': isspam})\n",
    "        else:\n",
    "            break\n",
    "    email_list_df = pd.DataFrame(email_list) \n",
    "    email_list_df.replace(to_replace= 'spam \\n', value= 0, regex=True, inplace= True)\n",
    "    email_list_df.replace(to_replace= 'ham \\n', value= 1, regex=True, inplace= True)\n",
    "    #email_list_df.head()\n",
    "    return(email_list_df)"
   ]
  },
  {
   "cell_type": "code",
   "execution_count": 4,
   "metadata": {},
   "outputs": [],
   "source": [
    "# create test-train set\n",
    "def spam_test_train_set():\n",
    "    email_list_df = getting_emails()\n",
    "    ham_email_list = email_list_df[(email_list_df.isspam == 1)].iloc[:1000]\n",
    "    spam_email_list = email_list_df[(email_list_df.isspam == 0)].iloc[:1000]\n",
    "    train_email = pd.concat([ham_email_list.iloc[:800], spam_email_list.iloc[:800]])\n",
    "    test_email = pd.concat([ham_email_list.iloc[800:], spam_email_list.iloc[800:]])\n",
    "    return(train_email, test_email)"
   ]
  },
  {
   "cell_type": "markdown",
   "metadata": {},
   "source": [
    "### efficient memory use"
   ]
  },
  {
   "cell_type": "code",
   "execution_count": 5,
   "metadata": {},
   "outputs": [],
   "source": [
    "def iter_strs(strs):\n",
    "    for s in strs:\n",
    "        tokens = s.split()\n",
    "        counts = collections.Counter(tokens)\n",
    "        yield counts"
   ]
  },
  {
   "cell_type": "code",
   "execution_count": 6,
   "metadata": {},
   "outputs": [],
   "source": [
    "def confusion(predictions, actuals):\n",
    "    actuals=actuals.values[:,0] if isinstance(actuals,pd.DataFrame) else actuals\n",
    "    \n",
    "    true_pos= (predictions==1) & (actuals==1)\n",
    "    true_pos.sum()\n",
    "    true_neg= (predictions==0) & (actuals==0)\n",
    "    true_neg.sum()\n",
    "    false_pos= (predictions==1) & (actuals==0)\n",
    "    false_pos.sum()\n",
    "    false_neg= (predictions==0) & (actuals==1)\n",
    "    false_neg.sum()\n",
    "    \n",
    "    prec=true_pos.sum()/(true_pos.sum()+false_pos.sum())\n",
    "    accur=(true_pos.sum()+true_neg.sum())/(true_pos.sum()+false_pos.sum()+ \\\n",
    "                                           true_neg.sum()+ false_neg.sum())\n",
    "    recall = true_pos.sum()/(true_pos.sum()+false_neg.sum())\n",
    "    F1=2*(prec*recall/(prec+recall))\n",
    " \n",
    "    return(true_pos.sum(), false_pos.sum(),false_neg.sum(),true_neg.sum(), accur,recall, prec, F1)"
   ]
  },
  {
   "cell_type": "code",
   "execution_count": null,
   "metadata": {},
   "outputs": [],
   "source": []
  }
 ],
 "metadata": {
  "kernelspec": {
   "display_name": "Python 3",
   "language": "python",
   "name": "python3"
  },
  "language_info": {
   "codemirror_mode": {
    "name": "ipython",
    "version": 3
   },
   "file_extension": ".py",
   "mimetype": "text/x-python",
   "name": "python",
   "nbconvert_exporter": "python",
   "pygments_lexer": "ipython3",
   "version": "3.6.5"
  }
 },
 "nbformat": 4,
 "nbformat_minor": 2
}
